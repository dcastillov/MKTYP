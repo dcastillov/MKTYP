{
 "cells": [
  {
   "cell_type": "markdown",
   "metadata": {},
   "source": [
    "# Dani's Notebook"
   ]
  },
  {
   "cell_type": "code",
   "execution_count": 5,
   "metadata": {},
   "outputs": [
    {
     "name": "stdout",
     "output_type": "stream",
     "text": [
      "Ticket Cost Calculator\n",
      "How old are you?19\n",
      "If you are 19 years old, your total will be 10\n"
     ]
    }
   ],
   "source": [
    "def movieCost(age):\n",
    "    if (age)<18 or (age)>=65:\n",
    "        return 6\n",
    "    else:\n",
    "        return 10\n",
    "        \n",
    "print (\"Ticket Cost Calculator\")\n",
    "\n",
    "age= int(input(\"How old are you?\"))\n",
    "\n",
    "print (\"If you are \" \n",
    "+str (age) \n",
    "+\" years old, your total will be \" \n",
    "+str (movieCost(age)))"
   ]
  },
  {
   "cell_type": "code",
   "execution_count": 6,
   "metadata": {},
   "outputs": [
    {
     "name": "stdout",
     "output_type": "stream",
     "text": [
      "What is the shape name?\n",
      "Insert the number of sides4\n",
      "square or rectangle\n"
     ]
    }
   ],
   "source": [
    "def shapeName(s):\n",
    "    if s==3:\n",
    "        print ('triangle')\n",
    "    elif s==0:\n",
    "        print ('circle')\n",
    "    elif s==4:\n",
    "        print ('square or rectangle')\n",
    "    elif s==5:\n",
    "        print ('pentagon')\n",
    "    elif s==6: \n",
    "        print ('hexagon')\n",
    "    elif s==7:\n",
    "        print ('septagon')\n",
    "    else:\n",
    "        print ('i do not know')\n",
    "        \n",
    "print (\"What is the shape name?\")\n",
    "shape= int(input(\"Insert the number of sides\"))\n",
    "shapeName (shape) "
   ]
  },
  {
   "cell_type": "code",
   "execution_count": 7,
   "metadata": {},
   "outputs": [
    {
     "name": "stdout",
     "output_type": "stream",
     "text": [
      "Hailstone Calculator\n",
      "Insert a number54\n",
      "27\n",
      "82\n",
      "41\n",
      "124\n",
      "62\n",
      "31\n",
      "94\n",
      "47\n",
      "142\n",
      "71\n",
      "214\n",
      "107\n",
      "322\n",
      "161\n",
      "484\n",
      "242\n",
      "121\n",
      "364\n",
      "182\n",
      "91\n",
      "274\n",
      "137\n",
      "412\n",
      "206\n",
      "103\n",
      "310\n",
      "155\n",
      "466\n",
      "233\n",
      "700\n",
      "350\n",
      "175\n",
      "526\n",
      "263\n",
      "790\n",
      "395\n",
      "1186\n",
      "593\n",
      "1780\n",
      "890\n",
      "445\n",
      "1336\n",
      "668\n",
      "334\n",
      "167\n",
      "502\n",
      "251\n",
      "754\n",
      "377\n",
      "1132\n",
      "566\n",
      "283\n",
      "850\n",
      "425\n",
      "1276\n",
      "638\n",
      "319\n",
      "958\n",
      "479\n",
      "1438\n",
      "719\n",
      "2158\n",
      "1079\n",
      "3238\n",
      "1619\n",
      "4858\n",
      "2429\n",
      "7288\n",
      "3644\n",
      "1822\n",
      "911\n",
      "2734\n",
      "1367\n",
      "4102\n",
      "2051\n",
      "6154\n",
      "3077\n",
      "9232\n",
      "4616\n",
      "2308\n",
      "1154\n",
      "577\n",
      "1732\n",
      "866\n",
      "433\n",
      "1300\n",
      "650\n",
      "325\n",
      "976\n",
      "488\n",
      "244\n",
      "122\n",
      "61\n",
      "184\n",
      "92\n",
      "46\n",
      "23\n",
      "70\n",
      "35\n",
      "106\n",
      "53\n",
      "160\n",
      "80\n",
      "40\n",
      "20\n",
      "10\n",
      "5\n",
      "16\n",
      "8\n",
      "4\n",
      "2\n",
      "1\n"
     ]
    }
   ],
   "source": [
    "def nextHailstone(n):\n",
    "    if(n%2==0):\n",
    "        return int(n/2)\n",
    "    else: \n",
    "        return 3*n+1\n",
    "print (\"Hailstone Calculator\")\n",
    "hail=int(input(\"Insert a number\"))\n",
    "while hail>1:\n",
    "    hail=nextHailstone(hail)\n",
    "    print (hail) \n"
   ]
  },
  {
   "cell_type": "code",
   "execution_count": 8,
   "metadata": {},
   "outputs": [
    {
     "name": "stdout",
     "output_type": "stream",
     "text": [
      "How many steps have you walked today? 10000\n",
      " If you've walked 10000.0 steps today, then you've walked 4.175365344467641 miles \n"
     ]
    }
   ],
   "source": [
    "def StepsToMiles (y):\n",
    "    return y/2395\n",
    "\n",
    "\n",
    "steps= float(input(\"How many steps have you walked today? \"))\n",
    "miles= StepsToMiles (steps)\n",
    "print(\" If you've walked \"\n",
    " + str(steps)\n",
    " + \" steps today, then you've walked \"\n",
    " + str(miles)\n",
    " + \" miles \"\n",
    "      )"
   ]
  },
  {
   "cell_type": "code",
   "execution_count": null,
   "metadata": {},
   "outputs": [],
   "source": [
    "import math\n",
    "\n",
    "def degToRadian (d): \n",
    "    return d/180*math.pi\n",
    "    \n",
    "print (\"Degrees to Radians Calculator\")\n",
    "degrees=float(input(\"Enter an angle in degrees\"))\n",
    "radians= degToRadian (degrees) \n",
    "print(\"The angle \"\n",
    "+ str (degrees)\n",
    "+ \" degrees is \"\n",
    "+ str (radians)\n",
    "+\" radians.\") "
   ]
  }
 ],
 "metadata": {
  "kernelspec": {
   "display_name": "Python 3",
   "language": "python",
   "name": "python3"
  },
  "language_info": {
   "codemirror_mode": {
    "name": "ipython",
    "version": 3
   },
   "file_extension": ".py",
   "mimetype": "text/x-python",
   "name": "python",
   "nbconvert_exporter": "python",
   "pygments_lexer": "ipython3",
   "version": "3.7.0"
  }
 },
 "nbformat": 4,
 "nbformat_minor": 2
}
