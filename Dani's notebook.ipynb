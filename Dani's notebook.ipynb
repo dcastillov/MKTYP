{
 "cells": [
  {
   "cell_type": "markdown",
   "metadata": {},
   "source": [
    "# Dani's Notebook"
   ]
  },
  {
   "cell_type": "code",
   "execution_count": 5,
   "metadata": {},
   "outputs": [
    {
     "name": "stdout",
     "output_type": "stream",
     "text": [
      "Ticket Cost Calculator\n",
      "How old are you?19\n",
      "If you are 19 years old, your total will be 10\n"
     ]
    }
   ],
   "source": [
    "def movieCost(age):\n",
    "    if (age)<18 or (age)>=65:\n",
    "        return 6\n",
    "    else:\n",
    "        return 10\n",
    "        \n",
    "print (\"Ticket Cost Calculator\")\n",
    "\n",
    "age= int(input(\"How old are you?\"))\n",
    "\n",
    "print (\"If you are \" \n",
    "+str (age) \n",
    "+\" years old, your total will be \" \n",
    "+str (movieCost(age)))"
   ]
  },
  {
   "cell_type": "code",
   "execution_count": 6,
   "metadata": {},
   "outputs": [
    {
     "name": "stdout",
     "output_type": "stream",
     "text": [
      "What is the shape name?\n",
      "Insert the number of sides4\n",
      "square or rectangle\n"
     ]
    }
   ],
   "source": [
    "def shapeName(s):\n",
    "    if s==3:\n",
    "        print ('triangle')\n",
    "    elif s==0:\n",
    "        print ('circle')\n",
    "    elif s==4:\n",
    "        print ('square or rectangle')\n",
    "    elif s==5:\n",
    "        print ('pentagon')\n",
    "    elif s==6: \n",
    "        print ('hexagon')\n",
    "    elif s==7:\n",
    "        print ('septagon')\n",
    "    else:\n",
    "        print ('i do not know')\n",
    "        \n",
    "print (\"What is the shape name?\")\n",
    "shape= int(input(\"Insert the number of sides\"))\n",
    "shapeName (shape) "
   ]
  },
  {
   "cell_type": "code",
   "execution_count": null,
   "metadata": {},
   "outputs": [],
   "source": [
    "def nextHailstone(n):\n",
    "    if(n%2==0):\n",
    "        return int(n/2)\n",
    "    else: \n",
    "        return 3*n+1\n",
    "print (\"Hailstone Calculator\")\n",
    "hail=int(input(\"Insert a number\"))\n",
    "while hail>1:\n",
    "    hail=nextHailstone(hail)\n",
    "    print (hail)"
   ]
  }
 ],
 "metadata": {
  "kernelspec": {
   "display_name": "Python 3",
   "language": "python",
   "name": "python3"
  },
  "language_info": {
   "codemirror_mode": {
    "name": "ipython",
    "version": 3
   },
   "file_extension": ".py",
   "mimetype": "text/x-python",
   "name": "python",
   "nbconvert_exporter": "python",
   "pygments_lexer": "ipython3",
   "version": "3.7.0"
  }
 },
 "nbformat": 4,
 "nbformat_minor": 2
}
