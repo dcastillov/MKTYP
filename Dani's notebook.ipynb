{
 "cells": [
  {
   "cell_type": "markdown",
   "metadata": {},
   "source": [
    "# Dani's Notebook"
   ]
  },
  {
   "cell_type": "code",
   "execution_count": 5,
   "metadata": {},
   "outputs": [
    {
     "name": "stdout",
     "output_type": "stream",
     "text": [
      "Ticket Cost Calculator\n",
      "How old are you?19\n",
      "If you are 19 years old, your total will be 10\n"
     ]
    }
   ],
   "source": [
    "def movieCost(age):\n",
    "    if (age)<18 or (age)>=65:\n",
    "        return 6\n",
    "    else:\n",
    "        return 10\n",
    "        \n",
    "print (\"Ticket Cost Calculator\")\n",
    "\n",
    "age= int(input(\"How old are you?\"))\n",
    "\n",
    "print (\"If you are \" \n",
    "+str (age) \n",
    "+\" years old, your total will be \" \n",
    "+str (movieCost(age)))"
   ]
  },
  {
   "cell_type": "code",
   "execution_count": 4,
   "metadata": {},
   "outputs": [
    {
     "name": "stdout",
     "output_type": "stream",
     "text": [
      "Ticket Cost Calculator\n",
      "How old are you?63\n",
      "If you are 63 years old, your total will be 10\n"
     ]
    }
   ],
   "source": []
  },
  {
   "cell_type": "code",
   "execution_count": null,
   "metadata": {},
   "outputs": [],
   "source": []
  }
 ],
 "metadata": {
  "kernelspec": {
   "display_name": "Python 3",
   "language": "python",
   "name": "python3"
  },
  "language_info": {
   "codemirror_mode": {
    "name": "ipython",
    "version": 3
   },
   "file_extension": ".py",
   "mimetype": "text/x-python",
   "name": "python",
   "nbconvert_exporter": "python",
   "pygments_lexer": "ipython3",
   "version": "3.7.0"
  }
 },
 "nbformat": 4,
 "nbformat_minor": 2
}
